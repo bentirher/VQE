{
 "cells": [
  {
   "cell_type": "markdown",
   "id": "80c6d07d",
   "metadata": {},
   "source": [
    "We will now test how quickly each ansatz converges to the equilibrium energy (that corresponding to the bond length) with each classical optimization routine, to determine which is the best ansatz-optimizer combination."
   ]
  },
  {
   "cell_type": "markdown",
   "id": "c42942c1",
   "metadata": {},
   "source": [
    "Once again, we start by importing some modules and defining the `get_qubit_op(distance)` function."
   ]
  },
  {
   "cell_type": "code",
   "execution_count": null,
   "id": "6865ed14",
   "metadata": {},
   "outputs": [],
   "source": [
    "from qiskit_nature.second_q.drivers import PySCFDriver\n",
    "from qiskit_nature.second_q.formats.molecule_info import MoleculeInfo\n",
    "from qiskit_nature.second_q.mappers import JordanWignerMapper, QubitConverter\n",
    "\n",
    "def get_qubit_op(d):\n",
    "\n",
    "    h2 = MoleculeInfo([\"H\", \"H\"], \n",
    "                        [(0.0, 0.0, 0.0), (0.0, 0.0, d)], \n",
    "                        charge= 0,\n",
    "                        multiplicity= 1 # 2*spin + 1,\n",
    "                        )\n",
    "\n",
    "    driver = PySCFDriver.from_molecule(h2 , basis=\"sto3g\")\n",
    "    \n",
    "    problem = driver.run() \n",
    "    \n",
    "    num_particles=problem.num_particles\n",
    "    \n",
    "    num_orbitals=int(problem.num_spatial_orbitals)\n",
    "    \n",
    "    hamiltonian = problem.hamiltonian\n",
    "    \n",
    "    second_q_op = hamiltonian.second_q_op()\n",
    "    \n",
    "    mapper=JordanWignerMapper()\n",
    "    \n",
    "    converter=QubitConverter(mapper)\n",
    "    \n",
    "    qubit_op=converter.convert(second_q_op)\n",
    "\n",
    "    return qubit_op,problem,converter, num_particles, num_orbitals"
   ]
  },
  {
   "cell_type": "markdown",
   "id": "0fd0f77f",
   "metadata": {},
   "source": [
    "We will also define the function `np_sol(problem, converter)` which yields the electronic energy through diagonalization of the Hamiltonian. This will become the target energy sought by the different routines through the optimization process."
   ]
  },
  {
   "cell_type": "code",
   "execution_count": null,
   "id": "592e011b",
   "metadata": {},
   "outputs": [],
   "source": [
    "from qiskit_nature.second_q.algorithms import GroundStateEigensolver, NumPyMinimumEigensolverFactory\n",
    "import numpy as np\n",
    "\n",
    "def np_sol(problem, converter):\n",
    "    \n",
    "    solver_ground = NumPyMinimumEigensolverFactory()\n",
    "    \n",
    "    calc_gs = GroundStateEigensolver(converter, solver_ground)\n",
    "    \n",
    "    np_result_gs = calc_gs.solve(problem)\n",
    "    \n",
    "    np_electronic_energy = problem.interpret(np_result_gs).electronic_energies\n",
    "        \n",
    "    return np_electronic_energy\n"
   ]
  },
  {
   "cell_type": "markdown",
   "id": "e0e9a0fd",
   "metadata": {},
   "source": [
    "Since we chose our target energy as that at bond length,"
   ]
  },
  {
   "cell_type": "code",
   "execution_count": null,
   "id": "ea8bf136",
   "metadata": {},
   "outputs": [],
   "source": [
    "d = 0.7356\n",
    "\n",
    "(qubit_op, problem, converter, num_particles, num_orbitals) = get_qubit_op(d)\n",
    "\n",
    "np_electronic_energy = np_sol(problem, converter)"
   ]
  },
  {
   "cell_type": "markdown",
   "id": "d9a0eccb",
   "metadata": {},
   "source": [
    "We will now define a callback function in which intermediate results of the optimization process will be stored, so we can track how each routine is reaching that target energy. We will input it later on the `VQE()`function."
   ]
  },
  {
   "cell_type": "code",
   "execution_count": null,
   "id": "8720f42c",
   "metadata": {},
   "outputs": [],
   "source": [
    "def store_intermediate_result(eval_count, parameters, mean, std):\n",
    "    counts.append(eval_count)\n",
    "    values.append(mean)  "
   ]
  },
  {
   "cell_type": "markdown",
   "id": "069b4768",
   "metadata": {},
   "source": [
    "At this point we can start our first loop, which for each optimizer and for an ansatz of choice (in this first case we chose UCCSD):\n",
    "- stores the estimated energy in each step (`counts`) in an array called `values`\n",
    "- plots the convergence process\n",
    "- estimates the time used to reach the target energy.\n"
   ]
  },
  {
   "cell_type": "code",
   "execution_count": null,
   "id": "38624439",
   "metadata": {},
   "outputs": [],
   "source": [
    "from qiskit.algorithms.optimizers import SLSQP, COBYLA, SPSA\n",
    "from qiskit_nature.second_q.circuit.library import UCCSD, HartreeFock\n",
    "from qiskit.algorithms.minimum_eigensolvers import VQE\n",
    "from qiskit_aer.primitives import Estimator as AerEstimator\n",
    "\n",
    "import timeit # This is used for the timing\n",
    "\n",
    "import matplotlib.pyplot as plt  \n",
    "import matplotlib.colors as mcolors\n",
    "from matplotlib import pyplot\n",
    "\n",
    "# The following configuration is optionnal but yields cleaner plots\n",
    "\n",
    "plt.rcParams['text.usetex'] = True  \n",
    "plt.rcParams['figure.dpi'] = 600\n",
    "plt.rcParams['savefig.dpi'] = 600\n",
    "\n",
    "counts = []\n",
    "values = []\n",
    "\n",
    "optimizers = ['SLSQP', 'COBYLA', 'SPSA']\n",
    "estimator = AerEstimator()\n",
    "\n",
    "for o in optimizers:\n",
    "    \n",
    "    counts = []\n",
    "    values = []\n",
    "\n",
    "    if o == 'SLSQP':\n",
    "        \n",
    "        optimizer = SLSQP(maxiter=300)\n",
    "        \n",
    "        color = 'gold'\n",
    "        \n",
    "    elif o == 'COBYLA':\n",
    "        \n",
    "        optimizer = COBYLA(maxiter=300)\n",
    "        \n",
    "        color = 'darkorange'\n",
    "        \n",
    "    else:\n",
    "        \n",
    "        optimizer = SPSA(maxiter=300)\n",
    "        \n",
    "        color = 'saddlebrown'\n",
    "\n",
    "    start = timeit.default_timer()\n",
    "\n",
    "    init_state = HartreeFock(num_orbitals,num_particles, converter)\n",
    "    \n",
    "    ansatz = UCCSD(num_orbitals, num_particles, converter, initial_state = init_state) \n",
    "    \n",
    "    vqe = VQE(estimator, ansatz, optimizer, callback = store_intermediate_result)\n",
    "\n",
    "    result = vqe.compute_minimum_eigenvalue(operator=qubit_op)\n",
    "\n",
    "    stop = timeit.default_timer()\n",
    "\n",
    "    execution_time = stop - start\n",
    "\n",
    "    plt.plot(counts, values, color = color, linestyle = '-', linewidth=1, label= o)\n",
    "\n",
    "    print(f\"{o}\", f\"took {execution_time: .2f}\", f\"seconds and {counts[-1]: .1f} counts\" ,\"to reach convergence\", sep=' ') # It returns time in seconds\n",
    "  \n",
    "\n",
    "\n",
    "print('SIDENOTE: Energy calculated is ONLY electronic energy')   \n",
    "plt.axhline(y = np_electronic_energy , color = 'darkgrey', linestyle = '-', linewidth=1, label='Target energy') # Thee +0.755.. is the nuclear repulsion energy computed by numpy\n",
    "# pyplot.xscale('log')\n",
    "plt.xlabel('Cost function evaluation count')\n",
    "plt.ylabel('Energy (Hartree)')\n",
    "plt.legend()\n",
    "plt.savefig('uccsd_convergence.jpg') \n",
    "plt.show()"
   ]
  },
  {
   "cell_type": "markdown",
   "id": "7f8e1564",
   "metadata": {},
   "source": [
    "The same thing can be done with `EfficientSU2`as the ansatz of choice by switching `ansatz = UCCSD(num_orbitals, num_particles, converter, initial_state = init_state)` for `ansatz = EfficientSU2(num_qubits = 4, entanglement = 'linear', initial_state = init_state)`.\n"
   ]
  }
 ],
 "metadata": {
  "kernelspec": {
   "display_name": "Qiskit v1.0.1 (ipykernel)",
   "language": "python",
   "name": "python3"
  },
  "language_info": {
   "codemirror_mode": {
    "name": "ipython",
    "version": 3
   },
   "file_extension": ".py",
   "mimetype": "text/x-python",
   "name": "python",
   "nbconvert_exporter": "python",
   "pygments_lexer": "ipython3",
   "version": "3.10.8"
  },
  "widgets": {
   "application/vnd.jupyter.widget-state+json": {
    "state": {},
    "version_major": 2,
    "version_minor": 0
   }
  }
 },
 "nbformat": 4,
 "nbformat_minor": 5
}
